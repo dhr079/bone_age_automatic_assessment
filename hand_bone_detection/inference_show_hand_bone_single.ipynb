{
 "cells": [
  {
   "cell_type": "code",
   "execution_count": 1,
   "metadata": {},
   "outputs": [],
   "source": [
    "from mmdet.apis import init_detector, inference_detector, show_result_pyplot, single_gpu_test\n",
    "import mmcv\n",
    "from mmcv import Config\n",
    "\n",
    "import pandas as pd\n",
    "import os \n",
    "import numpy as np\n",
    "import matplotlib.pyplot as plt"
   ]
  },
  {
   "cell_type": "code",
   "execution_count": 2,
   "metadata": {},
   "outputs": [],
   "source": [
    "cfg = Config.fromfile('../configs/detectoRS_cascade_rcnn-hand-bone.py')\n",
    "\n",
    "cfg.model.roi_head.bbox_head[0].num_classes = 13\n",
    "cfg.model.roi_head.bbox_head[1].num_classes = 13\n",
    "cfg.model.roi_head.bbox_head[2].num_classes = 13\n",
    "\n",
    "checkpoint_file = 'hand_bone_exps/latest.pth'\n",
    "cfg.gpu_ids = [1]"
   ]
  },
  {
   "cell_type": "code",
   "execution_count": 1,
   "metadata": {},
   "outputs": [],
   "source": [
    "model = init_detector(cfg, checkpoint_file, device='cuda:1')\n",
    "model.CLASSES = ['radius', 'ulna', 'metacarpal1', 'metacarpal3', 'metacarpal5', \n",
    "               'nearly-phalanx1','nearly-phalanx3', 'nearly-phalanx5', 'middle-phalanx3', 'middle-phalanx5', \n",
    "              'far-phalanx1', 'far-phalanx3', 'far-phalanx5']"
   ]
  },
  {
   "cell_type": "code",
   "execution_count": 4,
   "metadata": {},
   "outputs": [],
   "source": [
    "import os \n",
    "import random\n",
    "import matplotlib.pyplot as plt\n",
    "\n",
    "test_file = '/fdr/fdr/datasets/hand_bone/val.txt'\n",
    "imgs_dir = '/fdr/fdr/datasets/hand_bone/JPEGImages'\n",
    "\n",
    "with open(test_file) as f:\n",
    "    test_list = f.readlines()"
   ]
  },
  {
   "cell_type": "code",
   "execution_count": 4,
   "metadata": {},
   "outputs": [],
   "source": [
    "test_dir = '/fdr/fdr/datasets/hand_bone/test_datasets/resized_image'"
   ]
  },
  {
   "cell_type": "code",
   "execution_count": 2,
   "metadata": {},
   "outputs": [],
   "source": [
    "test_file = os.path.join(test_dir, '001300.jpg')\n",
    "\n",
    "test_img = mmcv.imread(test_file)\n",
    "test_img_ = mmcv.imresize(test_img, (int(test_img.shape[0]), int(test_img.shape[1])))\n",
    "\n",
    "result = inference_detector(model, test_img_)\n",
    "\n",
    "print(test_file, test_img_.shape, result[0].shape)\n",
    "print(result)\n",
    "\n",
    "img = model.show_result(test_img_, result, score_thr=0.8,show=False, bbox_color='red', \n",
    "                        text_color='red', thickness=1, font_scale=0.3)\n",
    "plt.figure(figsize=(15,10))\n",
    "plt.imshow(mmcv.bgr2rgb(img))\n",
    "plt.show()"
   ]
  },
  {
   "cell_type": "code",
   "execution_count": null,
   "metadata": {},
   "outputs": [],
   "source": []
  }
 ],
 "metadata": {
  "kernelspec": {
   "display_name": "Python 3",
   "language": "python",
   "name": "python3"
  },
  "language_info": {
   "codemirror_mode": {
    "name": "ipython",
    "version": 3
   },
   "file_extension": ".py",
   "mimetype": "text/x-python",
   "name": "python",
   "nbconvert_exporter": "python",
   "pygments_lexer": "ipython3",
   "version": "3.7.7"
  }
 },
 "nbformat": 4,
 "nbformat_minor": 4
}
