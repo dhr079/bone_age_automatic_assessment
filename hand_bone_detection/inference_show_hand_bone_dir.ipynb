{
 "cells": [
  {
   "cell_type": "code",
   "execution_count": 1,
   "metadata": {},
   "outputs": [],
   "source": [
    "from mmdet.apis import init_detector, inference_detector, show_result_pyplot, single_gpu_test\n",
    "import mmcv\n",
    "from mmcv import Config\n",
    "\n",
    "import pandas as pd\n",
    "import os \n",
    "import numpy as np\n",
    "import matplotlib.pyplot as plt"
   ]
  },
  {
   "cell_type": "code",
   "execution_count": 2,
   "metadata": {},
   "outputs": [],
   "source": [
    "cfg = Config.fromfile('../configs/detectoRS_cascade_rcnn-hand-bone.py')\n",
    "\n",
    "cfg.model.roi_head.bbox_head[0].num_classes = 13\n",
    "cfg.model.roi_head.bbox_head[1].num_classes = 13\n",
    "cfg.model.roi_head.bbox_head[2].num_classes = 13\n",
    "\n",
    "checkpoint_file = 'hand_bone_exps/latest.pth'\n",
    "cfg.gpu_ids = [1]"
   ]
  },
  {
   "cell_type": "code",
   "execution_count": 1,
   "metadata": {},
   "outputs": [],
   "source": [
    "model = init_detector(cfg, checkpoint_file, device='cuda:2')\n",
    "model.CLASSES = ['radius', 'ulna', 'metacarpal1', 'metacarpal3', 'metacarpal5', \n",
    "               'nearly-phalanx1','nearly-phalanx3', 'nearly-phalanx5', 'middle-phalanx3', 'middle-phalanx5', \n",
    "              'far-phalanx1', 'far-phalanx3', 'far-phalanx5']"
   ]
  },
  {
   "cell_type": "code",
   "execution_count": 143,
   "metadata": {},
   "outputs": [],
   "source": [
    "import os \n",
    "import random\n",
    "import matplotlib.pyplot as plt"
   ]
  },
  {
   "cell_type": "code",
   "execution_count": 145,
   "metadata": {},
   "outputs": [],
   "source": [
    "def infer_coor(test_file):\n",
    "    test_img = mmcv.imread(test_file)\n",
    "    test_img_ = mmcv.imresize(test_img, (int(test_img.shape[0]), int(test_img.shape[1])))\n",
    "    result = inference_detector(model, test_img_)\n",
    "\n",
    "    return result"
   ]
  },
  {
   "cell_type": "code",
   "execution_count": 148,
   "metadata": {},
   "outputs": [],
   "source": [
    "def parse_result(filename ,res, df, threshold=0.5):\n",
    "    assert len(res) == 13\n",
    "    columns=['filename', 'bone_type', 'min_x', 'min_y', 'max_x', 'max_y', 'conf']\n",
    "    for i,_class in enumerate(model.CLASSES):\n",
    "        if len(res[i]) <= 0:\n",
    "            continue\n",
    "        for boxs in res[i]:\n",
    "            tt = dict()\n",
    "            tt['filename'] = filename\n",
    "            tt['bone_type'] = _class\n",
    "            for j in range(5):\n",
    "                tt[columns[2+j]] = boxs[j]\n",
    "            if tt['conf'] >= threshold:\n",
    "                df = df.append(tt, ignore_index=True)\n",
    "    return df"
   ]
  },
  {
   "cell_type": "code",
   "execution_count": 150,
   "metadata": {},
   "outputs": [],
   "source": [
    "def infer(test_file, save_dir):\n",
    "    test_img = mmcv.imread(test_file)\n",
    "    test_img_ = mmcv.imresize(test_img, (int(test_img.shape[0]), int(test_img.shape[1])))\n",
    "    save_file = os.path.join(save_dir, os.path.basename(test_file))\n",
    "\n",
    "    result = inference_detector(model, test_img_)\n",
    "\n",
    "    img = model.show_result(test_img_, result, score_thr=0.4,show=False, bbox_color='red', \n",
    "                            text_color='red', thickness=1, font_scale=0.3)\n",
    "    idx = int(os.path.basename(test_file).split('.')[0])\n",
    "    mmcv.imwrite(img, save_file)\n",
    "    print('\\r\\r', save_file, end='')"
   ]
  },
  {
   "cell_type": "code",
   "execution_count": 153,
   "metadata": {},
   "outputs": [],
   "source": [
    "test_dir = '/fdr/fdr/datasets/hand_bone/resized_last_use'\n",
    "test_list = os.listdir(test_dir)"
   ]
  },
  {
   "cell_type": "code",
   "execution_count": 154,
   "metadata": {},
   "outputs": [
    {
     "name": "stdout",
     "output_type": "stream",
     "text": [
      " /fdr/fdr/datasets/hand_bone/resized_last_use/013710.jpg"
     ]
    }
   ],
   "source": [
    "df = pd.DataFrame(columns=['filename', 'bone_type', 'min_x', 'min_y', 'max_x', 'max_y', 'conf'])\n",
    "\n",
    "for file in test_list:\n",
    "    val_file = os.path.join(test_dir, file)\n",
    "    res = infer_coor(val_file)\n",
    "    df = parse_result(file.split('.')[0], res, df)\n",
    "    print('\\r\\r', val_file, end='')"
   ]
  },
  {
   "cell_type": "code",
   "execution_count": 155,
   "metadata": {},
   "outputs": [],
   "source": [
    "df.to_csv('result/hand_bone_last_use_coor_boxes.csv', index=False)"
   ]
  },
  {
   "cell_type": "code",
   "execution_count": 156,
   "metadata": {},
   "outputs": [
    {
     "name": "stdout",
     "output_type": "stream",
     "text": [
      " result/hand_bone_resized_last_use_result/013710.jpg result/hand_bone_resized_last_use_result/015780.jpg"
     ]
    }
   ],
   "source": [
    "saved_dir = 'result/hand_bone_resized_last_use_result'\n",
    "\n",
    "for file in test_list:\n",
    "    val_file = os.path.join(test_dir, file)\n",
    "    infer(val_file, saved_dir)"
   ]
  },
  {
   "cell_type": "code",
   "execution_count": null,
   "metadata": {},
   "outputs": [],
   "source": []
  }
 ],
 "metadata": {
  "kernelspec": {
   "display_name": "Python 3",
   "language": "python",
   "name": "python3"
  },
  "language_info": {
   "codemirror_mode": {
    "name": "ipython",
    "version": 3
   },
   "file_extension": ".py",
   "mimetype": "text/x-python",
   "name": "python",
   "nbconvert_exporter": "python",
   "pygments_lexer": "ipython3",
   "version": "3.7.7"
  }
 },
 "nbformat": 4,
 "nbformat_minor": 4
}
