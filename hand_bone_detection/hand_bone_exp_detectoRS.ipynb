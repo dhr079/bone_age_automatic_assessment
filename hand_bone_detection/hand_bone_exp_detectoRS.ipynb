{
 "cells": [
  {
   "cell_type": "code",
   "execution_count": 1,
   "metadata": {},
   "outputs": [],
   "source": [
    "import copy\n",
    "import os.path as osp\n",
    "\n",
    "import torch\n",
    "\n",
    "from mmdet.datasets import build_dataset\n",
    "from mmdet.models import build_detector\n",
    "from mmdet.apis import train_detector\n",
    "\n",
    "import mmcv\n",
    "import numpy as np\n",
    "import xml.etree.ElementTree as ET\n",
    "\n",
    "from mmdet.datasets.builder import DATASETS\n",
    "from mmdet.datasets.custom import CustomDataset\n",
    "\n",
    "\n",
    "@DATASETS.register_module()\n",
    "class HandBoneDataset(CustomDataset):\n",
    "\n",
    "    CLASSES = ('radius', 'ulna', 'metacarpal1', 'metacarpal3', 'metacarpal5', \n",
    "               'nearly-phalanx1','nearly-phalanx3', 'nearly-phalanx5', 'middle-phalanx3', 'middle-phalanx5', \n",
    "              'far-phalanx1', 'far-phalanx3', 'far-phalanx5',)\n",
    "    \n",
    "    cat2lab = {val:i for i, val in enumerate(CLASSES)}\n",
    "    lab2cat = {i:val for i, val in enumerate(CLASSES)}\n",
    "\n",
    "    def parse_xml2dict(self, xml_file):\n",
    "        tree = ET.parse(xml_file)\n",
    "        root = tree.getroot()\n",
    "        infos = dict(filename = root.find('filename').text,\n",
    "                     width = int(root.find('size')[0].text),\n",
    "                     height = int(root.find('size')[1].text),\n",
    "                    )\n",
    "        labels = []\n",
    "        boxs = []\n",
    "        for member in root.findall('object'):\n",
    "            label = self.cat2lab[member[0].text]\n",
    "            box = (int(member[4][0].text),\n",
    "                   int(member[4][1].text),\n",
    "                   int(member[4][2].text),\n",
    "                   int(member[4][3].text)\n",
    "                  )\n",
    "            labels.append(label)\n",
    "            boxs.append(box)\n",
    "        infos['ann'] = {'bboxes': np.array(boxs, dtype=np.float32), 'labels':np.array(labels, dtype=np.int64)}\n",
    "        return infos\n",
    "    \n",
    "    def load_annotations(self, ann_file):\n",
    "        # load image list from file\n",
    "        image_list = mmcv.list_from_file(self.ann_file)\n",
    "    \n",
    "        data_infos = []\n",
    "        xml_prefix = self.img_prefix.replace('JPEGImages', 'Annotations')\n",
    "        # convert annotations to middle format\n",
    "        for image_id in image_list:\n",
    "            # load annotations\n",
    "            xml_file = osp.join(xml_prefix, image_id+'.xml')\n",
    "            data_info = self.parse_xml2dict(xml_file)\n",
    "\n",
    "            data_infos.append(data_info)\n",
    "\n",
    "        return data_infos"
   ]
  },
  {
   "cell_type": "code",
   "execution_count": 6,
   "metadata": {},
   "outputs": [],
   "source": [
    "from mmdet.apis import set_random_seed\n",
    "from mmcv import Config\n",
    "import os \n",
    "\n",
    "cfg = Config.fromfile('../configs/detectoRS_cascade_rcnn-hand-bone.py')\n",
    "\n",
    "cfg.dataset_type = 'HandBoneDataset'\n",
    "cfg.data_root = '/fdr/fdr/datasets/hand_bone'\n",
    "\n",
    "cfg.data.train.type = 'HandBoneDataset'\n",
    "cfg.data.train.data_root = '/fdr/fdr/datasets/hand_bone'\n",
    "cfg.data.train.ann_file = 'train.txt'\n",
    "cfg.data.train.img_prefix = 'JPEGImages'\n",
    "\n",
    "cfg.data.test.type = 'HandBoneDataset'\n",
    "cfg.data.test.data_root = '/fdr/fdr/datasets/hand_bone'\n",
    "cfg.data.test.ann_file = 'val.txt'\n",
    "cfg.data.test.img_prefix = 'JPEGImages'\n",
    "\n",
    "cfg.data.val.type = 'HandBoneDataset'\n",
    "cfg.data.val.data_root = '/fdr/fdr/datasets/hand_bone'\n",
    "cfg.data.val.ann_file = 'val.txt'\n",
    "cfg.data.val.img_prefix = 'JPEGImages'\n",
    "\n",
    "cfg.work_dir = './hand_bone_exps'\n",
    "\n",
    "cfg.optimizer.lr = 1e-1 \n",
    "cfg.lr_config.warmup = 'linear'\n",
    "cfg.log_config.interval = 1\n",
    "\n",
    "cfg.evaluation.metric = 'mAP'\n",
    "cfg.evaluation.interval = 2\n",
    "cfg.checkpoint_config.interval = 5\n",
    "\n",
    "cfg.seed = 79\n",
    "set_random_seed(0, deterministic=False)\n",
    "cfg.gpu_ids = [0]\n",
    "\n",
    "cfg.model.roi_head.bbox_head[0].num_classes = 13\n",
    "cfg.model.roi_head.bbox_head[1].num_classes = 13\n",
    "cfg.model.roi_head.bbox_head[2].num_classes = 13\n",
    "\n",
    "cfg.model.backbone.frozen_stages = 0"
   ]
  },
  {
   "cell_type": "code",
   "execution_count": 8,
   "metadata": {},
   "outputs": [],
   "source": [
    "cfg.total_epochs = 24\n",
    "cfg.lr_config.step = [12, 18]"
   ]
  },
  {
   "cell_type": "code",
   "execution_count": 9,
   "metadata": {},
   "outputs": [
    {
     "data": {
      "text/plain": [
       "{'policy': 'step',\n",
       " 'warmup': 'linear',\n",
       " 'warmup_iters': 500,\n",
       " 'warmup_ratio': 0.001,\n",
       " 'step': [12, 18]}"
      ]
     },
     "execution_count": 9,
     "metadata": {},
     "output_type": "execute_result"
    }
   ],
   "source": [
    "cfg.lr_config"
   ]
  },
  {
   "cell_type": "code",
   "execution_count": 1,
   "metadata": {},
   "outputs": [],
   "source": [
    "from mmdet.datasets import build_dataset\n",
    "from mmdet.models import build_detector\n",
    "from mmdet.apis import train_detector\n",
    "\n",
    "datasets = [build_dataset(cfg.data.train)]"
   ]
  },
  {
   "cell_type": "code",
   "execution_count": 2,
   "metadata": {},
   "outputs": [],
   "source": [
    "model = build_detector(cfg.model, train_cfg=cfg.train_cfg, test_cfg=cfg.test_cfg)\n",
    "model.CLASSES = datasets[0].CLASSES\n",
    "\n",
    "mmcv.mkdir_or_exist(osp.abspath(cfg.work_dir))\n",
    "train_detector(model, datasets, cfg, distributed=False, validate=True)"
   ]
  },
  {
   "cell_type": "code",
   "execution_count": null,
   "metadata": {},
   "outputs": [],
   "source": []
  }
 ],
 "metadata": {
  "kernelspec": {
   "display_name": "Python 3",
   "language": "python",
   "name": "python3"
  },
  "language_info": {
   "codemirror_mode": {
    "name": "ipython",
    "version": 3
   },
   "file_extension": ".py",
   "mimetype": "text/x-python",
   "name": "python",
   "nbconvert_exporter": "python",
   "pygments_lexer": "ipython3",
   "version": "3.7.7"
  }
 },
 "nbformat": 4,
 "nbformat_minor": 4
}
