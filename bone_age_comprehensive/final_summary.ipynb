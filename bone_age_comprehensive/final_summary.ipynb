{
 "cells": [
  {
   "cell_type": "code",
   "execution_count": 24,
   "metadata": {},
   "outputs": [],
   "source": [
    "import pandas as pd\n",
    "import glob\n",
    "import numpy as np\n",
    "import os"
   ]
  },
  {
   "cell_type": "code",
   "execution_count": 25,
   "metadata": {},
   "outputs": [],
   "source": [
    "def read_csv(ps):\n",
    "    df = pd.read_csv(ps, dtype={'filename': str,} ) \n",
    "    return df.rename(columns={'hierachical': os.path.basename(ps).split('.')[0]})"
   ]
  },
  {
   "cell_type": "code",
   "execution_count": 26,
   "metadata": {},
   "outputs": [],
   "source": [
    "def sum_from_male(x):\n",
    "    p1 =   4.151e-18  #(7.063e-19, 7.595e-18)\n",
    "    p2 =  -1.509e-14  #(-2.8e-14, -2.174e-15)\n",
    "    p3 =   2.228e-11  #(2.803e-12, 4.175e-11)\n",
    "    p4 =  -1.723e-08  #(-3.236e-08, -2.109e-09)\n",
    "    p5 =    7.53e-06  #(1.104e-06, 1.396e-05)\n",
    "    p6 =   -0.001881  #(-0.003345, -0.0004164)\n",
    "    p7 =      0.2673  #(0.1055, 0.4291)\n",
    "    p8 =      -7.899  #(-14.42, -1.379)\n",
    "    \n",
    "    return p1*x**7 + p2*x**6 + p3*x**5 + p4*x**4 + p5*x**3 + p6*x**2 + p7*x + p8\n",
    "\n",
    "def sum_from_female(x):\n",
    "    p1 =   3.645e-18  #(8.398e-19, 6.45e-18)\n",
    "    p2 =  -1.329e-14  #(-2.416e-14, -2.429e-15)\n",
    "    p3 =   1.983e-11  #(2.712e-12, 3.696e-11)\n",
    "    p4 =  -1.566e-08  #(-2.977e-08, -1.552e-09)\n",
    "    p5 =    7.09e-06  #(5.911e-07, 1.359e-05)\n",
    "    p6 =   -0.001866  #(-0.003519, -0.0002139)\n",
    "    p7 =      0.2827  #(0.07059, 0.4949)\n",
    "    p8 =      -12.29  #(-22.82, -1.76)\n",
    "    \n",
    "    return p1*x**7 + p2*x**6 + p3*x**5 + p4*x**4 + p5*x**3 + p6*x**2 + p7*x + p8"
   ]
  },
  {
   "cell_type": "code",
   "execution_count": 27,
   "metadata": {},
   "outputs": [],
   "source": [
    "def read_xlsx(ps):\n",
    "    df = pd.read_excel(ps)\n",
    "    names = df['Unnamed: 0']\n",
    "    ns = []\n",
    "    for nn in names:\n",
    "        ns.append(nn.split('\\n')[1])\n",
    "    df['Unnamed: 0'] = ns\n",
    "    df = df.rename(columns={'Unnamed: 0':'bone_type'})\n",
    "    return df"
   ]
  },
  {
   "cell_type": "code",
   "execution_count": 28,
   "metadata": {},
   "outputs": [],
   "source": [
    "bonecsvs = glob.glob('./*.csv')\n",
    "\n",
    "dfs = []\n",
    "bonecsvs = sorted(bonecsvs)\n",
    "for ps in bonecsvs:\n",
    "    dfs.append(read_csv(ps))\n",
    "    \n",
    "df = dfs[0]\n",
    "for dfi in dfs[1:]:\n",
    "    df = pd.merge(df, dfi, on='filename')\n",
    "    \n",
    "res_df = df.set_index('filename')"
   ]
  },
  {
   "cell_type": "code",
   "execution_count": 29,
   "metadata": {},
   "outputs": [],
   "source": [
    "male_s = read_xlsx('../male.xls')\n",
    "female_s = read_xlsx('../female.xls')\n",
    "male_s = male_s.set_index('bone_type').sort_index()\n",
    "female_s = female_s.set_index('bone_type').sort_index()"
   ]
  },
  {
   "cell_type": "code",
   "execution_count": 30,
   "metadata": {},
   "outputs": [],
   "source": [
    "last_use_label_df = pd.read_excel('../last_use_label.xls', dtype={'id': str})\n",
    "tt = last_use_label_df[last_use_label_df['sex'] == 'M']['id'].values\n",
    "\n",
    "tt = '0' + tt\n",
    "\n",
    "male_ids = set(tt)"
   ]
  },
  {
   "cell_type": "code",
   "execution_count": 33,
   "metadata": {},
   "outputs": [],
   "source": [
    "assert np.all(res_df.columns == male_s.index.values)\n",
    "assert np.all(res_df.columns == female_s.index.values)"
   ]
  },
  {
   "cell_type": "code",
   "execution_count": 35,
   "metadata": {},
   "outputs": [],
   "source": [
    "res_df['s'] = -1\n",
    "res_df['age'] = -1"
   ]
  },
  {
   "cell_type": "code",
   "execution_count": 36,
   "metadata": {},
   "outputs": [],
   "source": [
    "all_s = []\n",
    "age_s = []\n",
    "gender_s = []\n",
    "\n",
    "for x in res_df.index:\n",
    "    t = 0.\n",
    "    g = 0\n",
    "    if x in male_ids:\n",
    "        ss = male_s\n",
    "        summary = sum_from_male\n",
    "        g = 1\n",
    "    else:\n",
    "        ss = female_s\n",
    "        summary = sum_from_female\n",
    "    for bone_type, grade in zip(res_df.columns, res_df.loc[x].values):\n",
    "        if grade >= 0:\n",
    "            t += ss.loc[bone_type, grade] \n",
    "    all_s.append(t)\n",
    "    age_s.append(summary(t))\n",
    "    gender_s.append(g)"
   ]
  },
  {
   "cell_type": "code",
   "execution_count": 38,
   "metadata": {},
   "outputs": [],
   "source": [
    "res_df['s'] = all_s\n",
    "res_df['age'] = age_s\n",
    "res_df['gender'] = gender_s"
   ]
  },
  {
   "cell_type": "code",
   "execution_count": 41,
   "metadata": {},
   "outputs": [],
   "source": [
    "res_df.to_csv('../final_res.csv')"
   ]
  },
  {
   "cell_type": "code",
   "execution_count": null,
   "metadata": {},
   "outputs": [],
   "source": []
  }
 ],
 "metadata": {
  "kernelspec": {
   "display_name": "Python 3",
   "language": "python",
   "name": "python3"
  },
  "language_info": {
   "codemirror_mode": {
    "name": "ipython",
    "version": 3
   },
   "file_extension": ".py",
   "mimetype": "text/x-python",
   "name": "python",
   "nbconvert_exporter": "python",
   "pygments_lexer": "ipython3",
   "version": "3.7.7"
  }
 },
 "nbformat": 4,
 "nbformat_minor": 4
}
