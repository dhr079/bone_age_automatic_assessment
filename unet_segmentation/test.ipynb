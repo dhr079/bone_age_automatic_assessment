{
 "cells": [
  {
   "cell_type": "code",
   "execution_count": 1,
   "metadata": {},
   "outputs": [],
   "source": [
    "import os\n",
    "import numpy as np\n",
    "from tensorflow import keras\n",
    "import tensorflow as tf\n",
    "\n",
    "import cv2\n",
    "import glob2"
   ]
  },
  {
   "cell_type": "code",
   "execution_count": 2,
   "metadata": {},
   "outputs": [],
   "source": [
    "model = keras.models.load_model('model_save/seg_unet_09801.h5')"
   ]
  },
  {
   "cell_type": "code",
   "execution_count": 4,
   "metadata": {},
   "outputs": [],
   "source": [
    "def _normal(npv):\n",
    "    _mean = np.mean(npv)\n",
    "    _std = np.std(npv)\n",
    "    _nm = (npv - _mean) / _std\n",
    "    return  np.expand_dims(_nm, axis=2)"
   ]
  },
  {
   "cell_type": "code",
   "execution_count": 5,
   "metadata": {},
   "outputs": [],
   "source": [
    "def get_info(img_path, size=(640, 640)):\n",
    "    _path = img_path\n",
    "    img = cv2.imread(img_path, cv2.IMREAD_GRAYSCALE)\n",
    "    _shape = img.shape\n",
    "    img = cv2.resize(img, size)\n",
    "    _data = _normal(img)\n",
    "    info = dict(data=_data, shape=_shape, path=_path)\n",
    "    return info"
   ]
  },
  {
   "cell_type": "code",
   "execution_count": 7,
   "metadata": {},
   "outputs": [],
   "source": [
    "imgs = 'my_data\\\\last_use\\\\*.jpg'\n",
    "save_dir = 'my_data/last_use_result/'"
   ]
  },
  {
   "cell_type": "code",
   "execution_count": 8,
   "metadata": {},
   "outputs": [],
   "source": [
    "imgps = glob2.glob(imgs)"
   ]
  },
  {
   "cell_type": "code",
   "execution_count": 11,
   "metadata": {},
   "outputs": [
    {
     "name": "stdout",
     "output_type": "stream",
     "text": [
      " my_data/last_use_result/016400.jpg my_data/last_use_result/014120.jpg my_data/last_use_result/014190.jpg"
     ]
    }
   ],
   "source": [
    "for imgp in imgps:\n",
    "    info = get_info(imgp)\n",
    "    x = np.expand_dims(info['data'], axis=0)\n",
    "    y_hat = model.predict(x, batch_size=1)\n",
    "    img_hat = cv2.resize(y_hat[0, :, :, 0], info['shape'][::-1])\n",
    "    img_hat = img_hat * 255.\n",
    "    save_path = os.path.join(save_dir, os.path.basename(info['path']))\n",
    "    cv2.imwrite(save_path, img_hat)\n",
    "    print('\\r\\r', save_path, end='')"
   ]
  },
  {
   "cell_type": "code",
   "execution_count": null,
   "metadata": {},
   "outputs": [],
   "source": []
  }
 ],
 "metadata": {
  "kernelspec": {
   "display_name": "Python 3",
   "language": "python",
   "name": "python3"
  },
  "language_info": {
   "codemirror_mode": {
    "name": "ipython",
    "version": 3
   },
   "file_extension": ".py",
   "mimetype": "text/x-python",
   "name": "python",
   "nbconvert_exporter": "python",
   "pygments_lexer": "ipython3",
   "version": "3.7.7"
  }
 },
 "nbformat": 4,
 "nbformat_minor": 4
}
