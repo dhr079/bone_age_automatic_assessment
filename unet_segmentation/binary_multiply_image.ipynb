{
 "cells": [
  {
   "cell_type": "code",
   "execution_count": 1,
   "metadata": {},
   "outputs": [],
   "source": [
    "import imageio\n",
    "import numpy as np\n",
    "import glob2"
   ]
  },
  {
   "cell_type": "code",
   "execution_count": 2,
   "metadata": {},
   "outputs": [],
   "source": [
    "raw_img_dir = 'last_use/'\n",
    "bin_img_dir = 'last_use_imfill/'\n",
    "lst_img_dir = 'last_use_img/'"
   ]
  },
  {
   "cell_type": "code",
   "execution_count": 3,
   "metadata": {},
   "outputs": [],
   "source": [
    "raw_imgs_p = glob2.glob(raw_img_dir+'*.jpg')\n",
    "bin_imgs_p = glob2.glob(bin_img_dir+'*.jpg')"
   ]
  },
  {
   "cell_type": "code",
   "execution_count": 5,
   "metadata": {},
   "outputs": [
    {
     "data": {
      "text/plain": [
       "['last_use', '013400.jpg']"
      ]
     },
     "execution_count": 5,
     "metadata": {},
     "output_type": "execute_result"
    }
   ],
   "source": [
    "raw_imgs_p[0].split('\\\\')"
   ]
  },
  {
   "cell_type": "code",
   "execution_count": 6,
   "metadata": {},
   "outputs": [],
   "source": [
    "def mm(raw_p, bin_p, split='\\\\'):\n",
    "    assert raw_p.split(split)[-1] == bin_p.split(split)[-1]\n",
    "    raw_img = imageio.imread(raw_p)\n",
    "    bin_img = imageio.imread(bin_p) / 255\n",
    "    return (raw_img * np.expand_dims(bin_img, -1)).astype('uint8')"
   ]
  },
  {
   "cell_type": "code",
   "execution_count": 7,
   "metadata": {},
   "outputs": [
    {
     "name": "stdout",
     "output_type": "stream",
     "text": [
      "016400.jpg"
     ]
    }
   ],
   "source": [
    "for raw_p, bin_p in zip(raw_imgs_p, bin_imgs_p):\n",
    "    file_name = raw_p.split('\\\\')[-1]\n",
    "    res_img = mm(raw_p, bin_p)\n",
    "    imageio.imwrite(lst_img_dir+file_name, res_img)\n",
    "    print('\\r', file_name, end='', sep='')"
   ]
  },
  {
   "cell_type": "code",
   "execution_count": 39,
   "metadata": {},
   "outputs": [],
   "source": []
  },
  {
   "cell_type": "code",
   "execution_count": null,
   "metadata": {},
   "outputs": [],
   "source": []
  }
 ],
 "metadata": {
  "kernelspec": {
   "display_name": "Python 3",
   "language": "python",
   "name": "python3"
  },
  "language_info": {
   "codemirror_mode": {
    "name": "ipython",
    "version": 3
   },
   "file_extension": ".py",
   "mimetype": "text/x-python",
   "name": "python",
   "nbconvert_exporter": "python",
   "pygments_lexer": "ipython3",
   "version": "3.7.7"
  }
 },
 "nbformat": 4,
 "nbformat_minor": 4
}
